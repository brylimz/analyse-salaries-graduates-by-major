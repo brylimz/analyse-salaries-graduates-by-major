{
 "cells": [
  {
   "cell_type": "code",
   "execution_count": 28,
   "outputs": [
    {
     "data": {
      "text/plain": "'Physician Assistant'"
     },
     "execution_count": 28,
     "metadata": {},
     "output_type": "execute_result"
    }
   ],
   "source": [
    "import pandas as pd\n",
    "df = pd.read_csv('salaries_by_college_major.csv')\n",
    "df.head()\n",
    "df.isna()\n",
    "clean_df = df.dropna()\n",
    "clean_df.tail()\n",
    "clean_df['Starting Median Salary'].max()\n",
    "clean_df['Starting Median Salary'].idxmax()\n",
    "# clean_df.loc[43]\n",
    "clean_df['Undergraduate Major'][43]"
   ],
   "metadata": {
    "collapsed": false,
    "pycharm": {
     "name": "#%%\n"
    }
   }
  },
  {
   "cell_type": "code",
   "execution_count": 29,
   "outputs": [
    {
     "data": {
      "text/plain": "                     Undergraduate Major  Starting Median Salary  \\\n0                             Accounting                 46000.0   \n1                  Aerospace Engineering                 57700.0   \n2                            Agriculture                 42600.0   \n3                           Anthropology                 36800.0   \n4                           Architecture                 41600.0   \n5                            Art History                 35800.0   \n6                                Biology                 38800.0   \n7                    Business Management                 43000.0   \n8                   Chemical Engineering                 63200.0   \n9                              Chemistry                 42600.0   \n10                     Civil Engineering                 53900.0   \n11                        Communications                 38100.0   \n12                  Computer Engineering                 61400.0   \n13                      Computer Science                 55900.0   \n14                          Construction                 53700.0   \n15                      Criminal Justice                 35000.0   \n16                                 Drama                 35900.0   \n17                             Economics                 50100.0   \n18                             Education                 34900.0   \n19                Electrical Engineering                 60900.0   \n20                               English                 38000.0   \n21                                  Film                 37900.0   \n22                               Finance                 47900.0   \n23                              Forestry                 39100.0   \n24                             Geography                 41200.0   \n25                               Geology                 43500.0   \n26                        Graphic Design                 35700.0   \n27            Health Care Administration                 38800.0   \n28                               History                 39200.0   \n29                 Hospitality & Tourism                 37800.0   \n30                Industrial Engineering                 57700.0   \n31           Information Technology (IT)                 49100.0   \n32                       Interior Design                 36100.0   \n33               International Relations                 40900.0   \n34                            Journalism                 35600.0   \n35  Management Information Systems (MIS)                 49200.0   \n36                             Marketing                 40800.0   \n37                                  Math                 45400.0   \n38                Mechanical Engineering                 57900.0   \n39                                 Music                 35900.0   \n40                               Nursing                 54200.0   \n41                             Nutrition                 39900.0   \n42                            Philosophy                 39900.0   \n43                   Physician Assistant                 74300.0   \n44                               Physics                 50300.0   \n45                     Political Science                 40800.0   \n46                            Psychology                 35900.0   \n47                              Religion                 34100.0   \n48                             Sociology                 36500.0   \n49                               Spanish                 34000.0   \n\n    Mid-Career Median Salary  Mid-Career 10th Percentile Salary  \\\n0                    77100.0                            42200.0   \n1                   101000.0                            64300.0   \n2                    71900.0                            36300.0   \n3                    61500.0                            33800.0   \n4                    76800.0                            50600.0   \n5                    64900.0                            28800.0   \n6                    64800.0                            36900.0   \n7                    72100.0                            38800.0   \n8                   107000.0                            71900.0   \n9                    79900.0                            45300.0   \n10                   90500.0                            63400.0   \n11                   70000.0                            37500.0   \n12                  105000.0                            66100.0   \n13                   95500.0                            56000.0   \n14                   88900.0                            56300.0   \n15                   56300.0                            32200.0   \n16                   56900.0                            36700.0   \n17                   98600.0                            50600.0   \n18                   52000.0                            29300.0   \n19                  103000.0                            69300.0   \n20                   64700.0                            33400.0   \n21                   68500.0                            33900.0   \n22                   88300.0                            47200.0   \n23                   62600.0                            41000.0   \n24                   65500.0                            40000.0   \n25                   79500.0                            45000.0   \n26                   59800.0                            36000.0   \n27                   60600.0                            34600.0   \n28                   71000.0                            37000.0   \n29                   57500.0                            35500.0   \n30                   94700.0                            57100.0   \n31                   74800.0                            44500.0   \n32                   53200.0                            35700.0   \n33                   80900.0                            38200.0   \n34                   66700.0                            38400.0   \n35                   82300.0                            45300.0   \n36                   79600.0                            42100.0   \n37                   92400.0                            45200.0   \n38                   93600.0                            63700.0   \n39                   55000.0                            26700.0   \n40                   67000.0                            47600.0   \n41                   55300.0                            33900.0   \n42                   81200.0                            35500.0   \n43                   91700.0                            66400.0   \n44                   97300.0                            56000.0   \n45                   78200.0                            41200.0   \n46                   60400.0                            31600.0   \n47                   52000.0                            29700.0   \n48                   58200.0                            30700.0   \n49                   53100.0                            31000.0   \n\n    Mid-Career 90th Percentile Salary     Group  \n0                            152000.0  Business  \n1                            161000.0      STEM  \n2                            150000.0  Business  \n3                            138000.0      HASS  \n4                            136000.0  Business  \n5                            125000.0      HASS  \n6                            135000.0      STEM  \n7                            147000.0  Business  \n8                            194000.0      STEM  \n9                            148000.0      STEM  \n10                           148000.0      STEM  \n11                           143000.0      HASS  \n12                           162000.0      STEM  \n13                           154000.0      STEM  \n14                           171000.0  Business  \n15                           107000.0      HASS  \n16                           153000.0      HASS  \n17                           210000.0  Business  \n18                           102000.0      HASS  \n19                           168000.0      STEM  \n20                           133000.0      HASS  \n21                           136000.0      HASS  \n22                           195000.0  Business  \n23                           111000.0  Business  \n24                           132000.0      HASS  \n25                           156000.0      STEM  \n26                           112000.0      HASS  \n27                           101000.0  Business  \n28                           149000.0      HASS  \n29                           124000.0  Business  \n30                           173000.0      STEM  \n31                           129000.0      STEM  \n32                           107000.0      HASS  \n33                           157000.0      HASS  \n34                           145000.0      HASS  \n35                           146000.0      STEM  \n36                           175000.0  Business  \n37                           183000.0      STEM  \n38                           163000.0      STEM  \n39                           134000.0      HASS  \n40                            98300.0  Business  \n41                            99200.0      HASS  \n42                           168000.0      HASS  \n43                           124000.0      STEM  \n44                           178000.0      STEM  \n45                           168000.0      HASS  \n46                           127000.0      HASS  \n47                            96400.0      HASS  \n48                           118000.0      HASS  \n49                            96400.0      HASS  ",
      "text/html": "<div>\n<style scoped>\n    .dataframe tbody tr th:only-of-type {\n        vertical-align: middle;\n    }\n\n    .dataframe tbody tr th {\n        vertical-align: top;\n    }\n\n    .dataframe thead th {\n        text-align: right;\n    }\n</style>\n<table border=\"1\" class=\"dataframe\">\n  <thead>\n    <tr style=\"text-align: right;\">\n      <th></th>\n      <th>Undergraduate Major</th>\n      <th>Starting Median Salary</th>\n      <th>Mid-Career Median Salary</th>\n      <th>Mid-Career 10th Percentile Salary</th>\n      <th>Mid-Career 90th Percentile Salary</th>\n      <th>Group</th>\n    </tr>\n  </thead>\n  <tbody>\n    <tr>\n      <th>0</th>\n      <td>Accounting</td>\n      <td>46000.0</td>\n      <td>77100.0</td>\n      <td>42200.0</td>\n      <td>152000.0</td>\n      <td>Business</td>\n    </tr>\n    <tr>\n      <th>1</th>\n      <td>Aerospace Engineering</td>\n      <td>57700.0</td>\n      <td>101000.0</td>\n      <td>64300.0</td>\n      <td>161000.0</td>\n      <td>STEM</td>\n    </tr>\n    <tr>\n      <th>2</th>\n      <td>Agriculture</td>\n      <td>42600.0</td>\n      <td>71900.0</td>\n      <td>36300.0</td>\n      <td>150000.0</td>\n      <td>Business</td>\n    </tr>\n    <tr>\n      <th>3</th>\n      <td>Anthropology</td>\n      <td>36800.0</td>\n      <td>61500.0</td>\n      <td>33800.0</td>\n      <td>138000.0</td>\n      <td>HASS</td>\n    </tr>\n    <tr>\n      <th>4</th>\n      <td>Architecture</td>\n      <td>41600.0</td>\n      <td>76800.0</td>\n      <td>50600.0</td>\n      <td>136000.0</td>\n      <td>Business</td>\n    </tr>\n    <tr>\n      <th>5</th>\n      <td>Art History</td>\n      <td>35800.0</td>\n      <td>64900.0</td>\n      <td>28800.0</td>\n      <td>125000.0</td>\n      <td>HASS</td>\n    </tr>\n    <tr>\n      <th>6</th>\n      <td>Biology</td>\n      <td>38800.0</td>\n      <td>64800.0</td>\n      <td>36900.0</td>\n      <td>135000.0</td>\n      <td>STEM</td>\n    </tr>\n    <tr>\n      <th>7</th>\n      <td>Business Management</td>\n      <td>43000.0</td>\n      <td>72100.0</td>\n      <td>38800.0</td>\n      <td>147000.0</td>\n      <td>Business</td>\n    </tr>\n    <tr>\n      <th>8</th>\n      <td>Chemical Engineering</td>\n      <td>63200.0</td>\n      <td>107000.0</td>\n      <td>71900.0</td>\n      <td>194000.0</td>\n      <td>STEM</td>\n    </tr>\n    <tr>\n      <th>9</th>\n      <td>Chemistry</td>\n      <td>42600.0</td>\n      <td>79900.0</td>\n      <td>45300.0</td>\n      <td>148000.0</td>\n      <td>STEM</td>\n    </tr>\n    <tr>\n      <th>10</th>\n      <td>Civil Engineering</td>\n      <td>53900.0</td>\n      <td>90500.0</td>\n      <td>63400.0</td>\n      <td>148000.0</td>\n      <td>STEM</td>\n    </tr>\n    <tr>\n      <th>11</th>\n      <td>Communications</td>\n      <td>38100.0</td>\n      <td>70000.0</td>\n      <td>37500.0</td>\n      <td>143000.0</td>\n      <td>HASS</td>\n    </tr>\n    <tr>\n      <th>12</th>\n      <td>Computer Engineering</td>\n      <td>61400.0</td>\n      <td>105000.0</td>\n      <td>66100.0</td>\n      <td>162000.0</td>\n      <td>STEM</td>\n    </tr>\n    <tr>\n      <th>13</th>\n      <td>Computer Science</td>\n      <td>55900.0</td>\n      <td>95500.0</td>\n      <td>56000.0</td>\n      <td>154000.0</td>\n      <td>STEM</td>\n    </tr>\n    <tr>\n      <th>14</th>\n      <td>Construction</td>\n      <td>53700.0</td>\n      <td>88900.0</td>\n      <td>56300.0</td>\n      <td>171000.0</td>\n      <td>Business</td>\n    </tr>\n    <tr>\n      <th>15</th>\n      <td>Criminal Justice</td>\n      <td>35000.0</td>\n      <td>56300.0</td>\n      <td>32200.0</td>\n      <td>107000.0</td>\n      <td>HASS</td>\n    </tr>\n    <tr>\n      <th>16</th>\n      <td>Drama</td>\n      <td>35900.0</td>\n      <td>56900.0</td>\n      <td>36700.0</td>\n      <td>153000.0</td>\n      <td>HASS</td>\n    </tr>\n    <tr>\n      <th>17</th>\n      <td>Economics</td>\n      <td>50100.0</td>\n      <td>98600.0</td>\n      <td>50600.0</td>\n      <td>210000.0</td>\n      <td>Business</td>\n    </tr>\n    <tr>\n      <th>18</th>\n      <td>Education</td>\n      <td>34900.0</td>\n      <td>52000.0</td>\n      <td>29300.0</td>\n      <td>102000.0</td>\n      <td>HASS</td>\n    </tr>\n    <tr>\n      <th>19</th>\n      <td>Electrical Engineering</td>\n      <td>60900.0</td>\n      <td>103000.0</td>\n      <td>69300.0</td>\n      <td>168000.0</td>\n      <td>STEM</td>\n    </tr>\n    <tr>\n      <th>20</th>\n      <td>English</td>\n      <td>38000.0</td>\n      <td>64700.0</td>\n      <td>33400.0</td>\n      <td>133000.0</td>\n      <td>HASS</td>\n    </tr>\n    <tr>\n      <th>21</th>\n      <td>Film</td>\n      <td>37900.0</td>\n      <td>68500.0</td>\n      <td>33900.0</td>\n      <td>136000.0</td>\n      <td>HASS</td>\n    </tr>\n    <tr>\n      <th>22</th>\n      <td>Finance</td>\n      <td>47900.0</td>\n      <td>88300.0</td>\n      <td>47200.0</td>\n      <td>195000.0</td>\n      <td>Business</td>\n    </tr>\n    <tr>\n      <th>23</th>\n      <td>Forestry</td>\n      <td>39100.0</td>\n      <td>62600.0</td>\n      <td>41000.0</td>\n      <td>111000.0</td>\n      <td>Business</td>\n    </tr>\n    <tr>\n      <th>24</th>\n      <td>Geography</td>\n      <td>41200.0</td>\n      <td>65500.0</td>\n      <td>40000.0</td>\n      <td>132000.0</td>\n      <td>HASS</td>\n    </tr>\n    <tr>\n      <th>25</th>\n      <td>Geology</td>\n      <td>43500.0</td>\n      <td>79500.0</td>\n      <td>45000.0</td>\n      <td>156000.0</td>\n      <td>STEM</td>\n    </tr>\n    <tr>\n      <th>26</th>\n      <td>Graphic Design</td>\n      <td>35700.0</td>\n      <td>59800.0</td>\n      <td>36000.0</td>\n      <td>112000.0</td>\n      <td>HASS</td>\n    </tr>\n    <tr>\n      <th>27</th>\n      <td>Health Care Administration</td>\n      <td>38800.0</td>\n      <td>60600.0</td>\n      <td>34600.0</td>\n      <td>101000.0</td>\n      <td>Business</td>\n    </tr>\n    <tr>\n      <th>28</th>\n      <td>History</td>\n      <td>39200.0</td>\n      <td>71000.0</td>\n      <td>37000.0</td>\n      <td>149000.0</td>\n      <td>HASS</td>\n    </tr>\n    <tr>\n      <th>29</th>\n      <td>Hospitality &amp; Tourism</td>\n      <td>37800.0</td>\n      <td>57500.0</td>\n      <td>35500.0</td>\n      <td>124000.0</td>\n      <td>Business</td>\n    </tr>\n    <tr>\n      <th>30</th>\n      <td>Industrial Engineering</td>\n      <td>57700.0</td>\n      <td>94700.0</td>\n      <td>57100.0</td>\n      <td>173000.0</td>\n      <td>STEM</td>\n    </tr>\n    <tr>\n      <th>31</th>\n      <td>Information Technology (IT)</td>\n      <td>49100.0</td>\n      <td>74800.0</td>\n      <td>44500.0</td>\n      <td>129000.0</td>\n      <td>STEM</td>\n    </tr>\n    <tr>\n      <th>32</th>\n      <td>Interior Design</td>\n      <td>36100.0</td>\n      <td>53200.0</td>\n      <td>35700.0</td>\n      <td>107000.0</td>\n      <td>HASS</td>\n    </tr>\n    <tr>\n      <th>33</th>\n      <td>International Relations</td>\n      <td>40900.0</td>\n      <td>80900.0</td>\n      <td>38200.0</td>\n      <td>157000.0</td>\n      <td>HASS</td>\n    </tr>\n    <tr>\n      <th>34</th>\n      <td>Journalism</td>\n      <td>35600.0</td>\n      <td>66700.0</td>\n      <td>38400.0</td>\n      <td>145000.0</td>\n      <td>HASS</td>\n    </tr>\n    <tr>\n      <th>35</th>\n      <td>Management Information Systems (MIS)</td>\n      <td>49200.0</td>\n      <td>82300.0</td>\n      <td>45300.0</td>\n      <td>146000.0</td>\n      <td>STEM</td>\n    </tr>\n    <tr>\n      <th>36</th>\n      <td>Marketing</td>\n      <td>40800.0</td>\n      <td>79600.0</td>\n      <td>42100.0</td>\n      <td>175000.0</td>\n      <td>Business</td>\n    </tr>\n    <tr>\n      <th>37</th>\n      <td>Math</td>\n      <td>45400.0</td>\n      <td>92400.0</td>\n      <td>45200.0</td>\n      <td>183000.0</td>\n      <td>STEM</td>\n    </tr>\n    <tr>\n      <th>38</th>\n      <td>Mechanical Engineering</td>\n      <td>57900.0</td>\n      <td>93600.0</td>\n      <td>63700.0</td>\n      <td>163000.0</td>\n      <td>STEM</td>\n    </tr>\n    <tr>\n      <th>39</th>\n      <td>Music</td>\n      <td>35900.0</td>\n      <td>55000.0</td>\n      <td>26700.0</td>\n      <td>134000.0</td>\n      <td>HASS</td>\n    </tr>\n    <tr>\n      <th>40</th>\n      <td>Nursing</td>\n      <td>54200.0</td>\n      <td>67000.0</td>\n      <td>47600.0</td>\n      <td>98300.0</td>\n      <td>Business</td>\n    </tr>\n    <tr>\n      <th>41</th>\n      <td>Nutrition</td>\n      <td>39900.0</td>\n      <td>55300.0</td>\n      <td>33900.0</td>\n      <td>99200.0</td>\n      <td>HASS</td>\n    </tr>\n    <tr>\n      <th>42</th>\n      <td>Philosophy</td>\n      <td>39900.0</td>\n      <td>81200.0</td>\n      <td>35500.0</td>\n      <td>168000.0</td>\n      <td>HASS</td>\n    </tr>\n    <tr>\n      <th>43</th>\n      <td>Physician Assistant</td>\n      <td>74300.0</td>\n      <td>91700.0</td>\n      <td>66400.0</td>\n      <td>124000.0</td>\n      <td>STEM</td>\n    </tr>\n    <tr>\n      <th>44</th>\n      <td>Physics</td>\n      <td>50300.0</td>\n      <td>97300.0</td>\n      <td>56000.0</td>\n      <td>178000.0</td>\n      <td>STEM</td>\n    </tr>\n    <tr>\n      <th>45</th>\n      <td>Political Science</td>\n      <td>40800.0</td>\n      <td>78200.0</td>\n      <td>41200.0</td>\n      <td>168000.0</td>\n      <td>HASS</td>\n    </tr>\n    <tr>\n      <th>46</th>\n      <td>Psychology</td>\n      <td>35900.0</td>\n      <td>60400.0</td>\n      <td>31600.0</td>\n      <td>127000.0</td>\n      <td>HASS</td>\n    </tr>\n    <tr>\n      <th>47</th>\n      <td>Religion</td>\n      <td>34100.0</td>\n      <td>52000.0</td>\n      <td>29700.0</td>\n      <td>96400.0</td>\n      <td>HASS</td>\n    </tr>\n    <tr>\n      <th>48</th>\n      <td>Sociology</td>\n      <td>36500.0</td>\n      <td>58200.0</td>\n      <td>30700.0</td>\n      <td>118000.0</td>\n      <td>HASS</td>\n    </tr>\n    <tr>\n      <th>49</th>\n      <td>Spanish</td>\n      <td>34000.0</td>\n      <td>53100.0</td>\n      <td>31000.0</td>\n      <td>96400.0</td>\n      <td>HASS</td>\n    </tr>\n  </tbody>\n</table>\n</div>"
     },
     "execution_count": 29,
     "metadata": {},
     "output_type": "execute_result"
    }
   ],
   "source": [
    "clean_df"
   ],
   "metadata": {
    "collapsed": false,
    "pycharm": {
     "name": "#%%\n"
    }
   }
  },
  {
   "cell_type": "code",
   "execution_count": 41,
   "outputs": [
    {
     "name": "stdout",
     "output_type": "stream",
     "text": [
      "107000.0\n",
      "Index for the max mid career salary: 8\n"
     ]
    },
    {
     "data": {
      "text/plain": "'Chemical Engineering'"
     },
     "execution_count": 41,
     "metadata": {},
     "output_type": "execute_result"
    }
   ],
   "source": [
    "print(clean_df['Mid-Career Median Salary'].max())\n",
    "print(f\"Index for the max mid career salary: {clean_df['Mid-Career Median Salary'].idxmax()}\")\n",
    "clean_df[\"Undergraduate Major\"][8]"
   ],
   "metadata": {
    "collapsed": false,
    "pycharm": {
     "name": "#%%\n"
    }
   }
  },
  {
   "cell_type": "code",
   "execution_count": 45,
   "outputs": [
    {
     "name": "stdout",
     "output_type": "stream",
     "text": [
      "34000.0\n",
      "Spanish\n"
     ]
    },
    {
     "data": {
      "text/plain": "Undergraduate Major                  Education\nStarting Median Salary                 34900.0\nMid-Career Median Salary               52000.0\nMid-Career 10th Percentile Salary      29300.0\nMid-Career 90th Percentile Salary     102000.0\nGroup                                     HASS\nName: 18, dtype: object"
     },
     "execution_count": 45,
     "metadata": {},
     "output_type": "execute_result"
    }
   ],
   "source": [
    "print(clean_df['Starting Median Salary'].min())\n",
    "print(clean_df['Undergraduate Major'].loc[clean_df['Starting Median Salary'].idxmin()])\n",
    "clean_df.loc[clean_df['Mid-Career Median Salary'].idxmin()]"
   ],
   "metadata": {
    "collapsed": false,
    "pycharm": {
     "name": "#%%\n"
    }
   }
  },
  {
   "cell_type": "code",
   "execution_count": 47,
   "outputs": [
    {
     "data": {
      "text/plain": "     Undergraduate Major    Spread  Starting Median Salary  \\\n0             Accounting  109800.0                 46000.0   \n1  Aerospace Engineering   96700.0                 57700.0   \n2            Agriculture  113700.0                 42600.0   \n3           Anthropology  104200.0                 36800.0   \n4           Architecture   85400.0                 41600.0   \n\n   Mid-Career Median Salary  Mid-Career 10th Percentile Salary  \\\n0                   77100.0                            42200.0   \n1                  101000.0                            64300.0   \n2                   71900.0                            36300.0   \n3                   61500.0                            33800.0   \n4                   76800.0                            50600.0   \n\n   Mid-Career 90th Percentile Salary     Group  \n0                           152000.0  Business  \n1                           161000.0      STEM  \n2                           150000.0  Business  \n3                           138000.0      HASS  \n4                           136000.0  Business  ",
      "text/html": "<div>\n<style scoped>\n    .dataframe tbody tr th:only-of-type {\n        vertical-align: middle;\n    }\n\n    .dataframe tbody tr th {\n        vertical-align: top;\n    }\n\n    .dataframe thead th {\n        text-align: right;\n    }\n</style>\n<table border=\"1\" class=\"dataframe\">\n  <thead>\n    <tr style=\"text-align: right;\">\n      <th></th>\n      <th>Undergraduate Major</th>\n      <th>Spread</th>\n      <th>Starting Median Salary</th>\n      <th>Mid-Career Median Salary</th>\n      <th>Mid-Career 10th Percentile Salary</th>\n      <th>Mid-Career 90th Percentile Salary</th>\n      <th>Group</th>\n    </tr>\n  </thead>\n  <tbody>\n    <tr>\n      <th>0</th>\n      <td>Accounting</td>\n      <td>109800.0</td>\n      <td>46000.0</td>\n      <td>77100.0</td>\n      <td>42200.0</td>\n      <td>152000.0</td>\n      <td>Business</td>\n    </tr>\n    <tr>\n      <th>1</th>\n      <td>Aerospace Engineering</td>\n      <td>96700.0</td>\n      <td>57700.0</td>\n      <td>101000.0</td>\n      <td>64300.0</td>\n      <td>161000.0</td>\n      <td>STEM</td>\n    </tr>\n    <tr>\n      <th>2</th>\n      <td>Agriculture</td>\n      <td>113700.0</td>\n      <td>42600.0</td>\n      <td>71900.0</td>\n      <td>36300.0</td>\n      <td>150000.0</td>\n      <td>Business</td>\n    </tr>\n    <tr>\n      <th>3</th>\n      <td>Anthropology</td>\n      <td>104200.0</td>\n      <td>36800.0</td>\n      <td>61500.0</td>\n      <td>33800.0</td>\n      <td>138000.0</td>\n      <td>HASS</td>\n    </tr>\n    <tr>\n      <th>4</th>\n      <td>Architecture</td>\n      <td>85400.0</td>\n      <td>41600.0</td>\n      <td>76800.0</td>\n      <td>50600.0</td>\n      <td>136000.0</td>\n      <td>Business</td>\n    </tr>\n  </tbody>\n</table>\n</div>"
     },
     "execution_count": 47,
     "metadata": {},
     "output_type": "execute_result"
    }
   ],
   "source": [
    "spread_col = clean_df['Mid-Career 90th Percentile Salary'].subtract(clean_df['Mid-Career 10th Percentile Salary'])\n",
    "clean_df.insert(1, 'Spread', spread_col)\n",
    "clean_df.head()"
   ],
   "metadata": {
    "collapsed": false,
    "pycharm": {
     "name": "#%%\n"
    }
   }
  },
  {
   "cell_type": "code",
   "execution_count": 50,
   "outputs": [
    {
     "data": {
      "text/plain": "           Undergraduate Major   Spread\n40                     Nursing  50700.0\n43         Physician Assistant  57600.0\n41                   Nutrition  65300.0\n49                     Spanish  65400.0\n27  Health Care Administration  66400.0",
      "text/html": "<div>\n<style scoped>\n    .dataframe tbody tr th:only-of-type {\n        vertical-align: middle;\n    }\n\n    .dataframe tbody tr th {\n        vertical-align: top;\n    }\n\n    .dataframe thead th {\n        text-align: right;\n    }\n</style>\n<table border=\"1\" class=\"dataframe\">\n  <thead>\n    <tr style=\"text-align: right;\">\n      <th></th>\n      <th>Undergraduate Major</th>\n      <th>Spread</th>\n    </tr>\n  </thead>\n  <tbody>\n    <tr>\n      <th>40</th>\n      <td>Nursing</td>\n      <td>50700.0</td>\n    </tr>\n    <tr>\n      <th>43</th>\n      <td>Physician Assistant</td>\n      <td>57600.0</td>\n    </tr>\n    <tr>\n      <th>41</th>\n      <td>Nutrition</td>\n      <td>65300.0</td>\n    </tr>\n    <tr>\n      <th>49</th>\n      <td>Spanish</td>\n      <td>65400.0</td>\n    </tr>\n    <tr>\n      <th>27</th>\n      <td>Health Care Administration</td>\n      <td>66400.0</td>\n    </tr>\n  </tbody>\n</table>\n</div>"
     },
     "execution_count": 50,
     "metadata": {},
     "output_type": "execute_result"
    }
   ],
   "source": [
    "low_risk = clean_df.sort_values('Spread')\n",
    "low_risk[['Undergraduate Major', 'Spread']].head()"
   ],
   "metadata": {
    "collapsed": false,
    "pycharm": {
     "name": "#%%\n"
    }
   }
  },
  {
   "cell_type": "markdown",
   "source": [],
   "metadata": {
    "collapsed": false,
    "pycharm": {
     "name": "#%% md\n"
    }
   }
  },
  {
   "cell_type": "code",
   "execution_count": 60,
   "outputs": [
    {
     "data": {
      "text/plain": "     Undergraduate Major  Mid-Career 90th Percentile Salary\n17             Economics                           210000.0\n22               Finance                           195000.0\n8   Chemical Engineering                           194000.0\n37                  Math                           183000.0\n44               Physics                           178000.0",
      "text/html": "<div>\n<style scoped>\n    .dataframe tbody tr th:only-of-type {\n        vertical-align: middle;\n    }\n\n    .dataframe tbody tr th {\n        vertical-align: top;\n    }\n\n    .dataframe thead th {\n        text-align: right;\n    }\n</style>\n<table border=\"1\" class=\"dataframe\">\n  <thead>\n    <tr style=\"text-align: right;\">\n      <th></th>\n      <th>Undergraduate Major</th>\n      <th>Mid-Career 90th Percentile Salary</th>\n    </tr>\n  </thead>\n  <tbody>\n    <tr>\n      <th>17</th>\n      <td>Economics</td>\n      <td>210000.0</td>\n    </tr>\n    <tr>\n      <th>22</th>\n      <td>Finance</td>\n      <td>195000.0</td>\n    </tr>\n    <tr>\n      <th>8</th>\n      <td>Chemical Engineering</td>\n      <td>194000.0</td>\n    </tr>\n    <tr>\n      <th>37</th>\n      <td>Math</td>\n      <td>183000.0</td>\n    </tr>\n    <tr>\n      <th>44</th>\n      <td>Physics</td>\n      <td>178000.0</td>\n    </tr>\n  </tbody>\n</table>\n</div>"
     },
     "execution_count": 60,
     "metadata": {},
     "output_type": "execute_result"
    }
   ],
   "source": [
    "highest_value_90th = clean_df.sort_values(\"Mid-Career 90th Percentile Salary\", ascending=False)\n",
    "highest_value_90th[['Undergraduate Major', 'Mid-Career 90th Percentile Salary']].head()"
   ],
   "metadata": {
    "collapsed": false,
    "pycharm": {
     "name": "#%%\n"
    }
   }
  },
  {
   "cell_type": "code",
   "execution_count": 61,
   "outputs": [
    {
     "data": {
      "text/plain": "   Undergraduate Major    Spread\n17           Economics  159400.0\n22             Finance  147800.0\n37                Math  137800.0\n36           Marketing  132900.0\n42          Philosophy  132500.0",
      "text/html": "<div>\n<style scoped>\n    .dataframe tbody tr th:only-of-type {\n        vertical-align: middle;\n    }\n\n    .dataframe tbody tr th {\n        vertical-align: top;\n    }\n\n    .dataframe thead th {\n        text-align: right;\n    }\n</style>\n<table border=\"1\" class=\"dataframe\">\n  <thead>\n    <tr style=\"text-align: right;\">\n      <th></th>\n      <th>Undergraduate Major</th>\n      <th>Spread</th>\n    </tr>\n  </thead>\n  <tbody>\n    <tr>\n      <th>17</th>\n      <td>Economics</td>\n      <td>159400.0</td>\n    </tr>\n    <tr>\n      <th>22</th>\n      <td>Finance</td>\n      <td>147800.0</td>\n    </tr>\n    <tr>\n      <th>37</th>\n      <td>Math</td>\n      <td>137800.0</td>\n    </tr>\n    <tr>\n      <th>36</th>\n      <td>Marketing</td>\n      <td>132900.0</td>\n    </tr>\n    <tr>\n      <th>42</th>\n      <td>Philosophy</td>\n      <td>132500.0</td>\n    </tr>\n  </tbody>\n</table>\n</div>"
     },
     "execution_count": 61,
     "metadata": {},
     "output_type": "execute_result"
    }
   ],
   "source": [
    "greatest_spread_salaries = clean_df.sort_values(\"Spread\", ascending=False)\n",
    "greatest_spread_salaries[['Undergraduate Major', 'Spread']].head()"
   ],
   "metadata": {
    "collapsed": false,
    "pycharm": {
     "name": "#%%\n"
    }
   }
  },
  {
   "cell_type": "code",
   "execution_count": 67,
   "outputs": [
    {
     "data": {
      "text/plain": "                     Undergraduate Major  Mid-Career Median Salary\n8                   Chemical Engineering                  107000.0\n12                  Computer Engineering                  105000.0\n19                Electrical Engineering                  103000.0\n1                  Aerospace Engineering                  101000.0\n17                             Economics                   98600.0\n44                               Physics                   97300.0\n13                      Computer Science                   95500.0\n30                Industrial Engineering                   94700.0\n38                Mechanical Engineering                   93600.0\n37                                  Math                   92400.0\n43                   Physician Assistant                   91700.0\n10                     Civil Engineering                   90500.0\n14                          Construction                   88900.0\n22                               Finance                   88300.0\n35  Management Information Systems (MIS)                   82300.0\n42                            Philosophy                   81200.0\n33               International Relations                   80900.0\n9                              Chemistry                   79900.0\n36                             Marketing                   79600.0\n25                               Geology                   79500.0\n45                     Political Science                   78200.0\n0                             Accounting                   77100.0\n4                           Architecture                   76800.0\n31           Information Technology (IT)                   74800.0\n7                    Business Management                   72100.0\n2                            Agriculture                   71900.0\n28                               History                   71000.0\n11                        Communications                   70000.0\n21                                  Film                   68500.0\n40                               Nursing                   67000.0\n34                            Journalism                   66700.0\n24                             Geography                   65500.0\n5                            Art History                   64900.0\n6                                Biology                   64800.0\n20                               English                   64700.0\n23                              Forestry                   62600.0\n3                           Anthropology                   61500.0\n27            Health Care Administration                   60600.0\n46                            Psychology                   60400.0\n26                        Graphic Design                   59800.0\n48                             Sociology                   58200.0\n29                 Hospitality & Tourism                   57500.0\n16                                 Drama                   56900.0\n15                      Criminal Justice                   56300.0\n41                             Nutrition                   55300.0\n39                                 Music                   55000.0\n32                       Interior Design                   53200.0\n49                               Spanish                   53100.0\n18                             Education                   52000.0\n47                              Religion                   52000.0",
      "text/html": "<div>\n<style scoped>\n    .dataframe tbody tr th:only-of-type {\n        vertical-align: middle;\n    }\n\n    .dataframe tbody tr th {\n        vertical-align: top;\n    }\n\n    .dataframe thead th {\n        text-align: right;\n    }\n</style>\n<table border=\"1\" class=\"dataframe\">\n  <thead>\n    <tr style=\"text-align: right;\">\n      <th></th>\n      <th>Undergraduate Major</th>\n      <th>Mid-Career Median Salary</th>\n    </tr>\n  </thead>\n  <tbody>\n    <tr>\n      <th>8</th>\n      <td>Chemical Engineering</td>\n      <td>107000.0</td>\n    </tr>\n    <tr>\n      <th>12</th>\n      <td>Computer Engineering</td>\n      <td>105000.0</td>\n    </tr>\n    <tr>\n      <th>19</th>\n      <td>Electrical Engineering</td>\n      <td>103000.0</td>\n    </tr>\n    <tr>\n      <th>1</th>\n      <td>Aerospace Engineering</td>\n      <td>101000.0</td>\n    </tr>\n    <tr>\n      <th>17</th>\n      <td>Economics</td>\n      <td>98600.0</td>\n    </tr>\n    <tr>\n      <th>44</th>\n      <td>Physics</td>\n      <td>97300.0</td>\n    </tr>\n    <tr>\n      <th>13</th>\n      <td>Computer Science</td>\n      <td>95500.0</td>\n    </tr>\n    <tr>\n      <th>30</th>\n      <td>Industrial Engineering</td>\n      <td>94700.0</td>\n    </tr>\n    <tr>\n      <th>38</th>\n      <td>Mechanical Engineering</td>\n      <td>93600.0</td>\n    </tr>\n    <tr>\n      <th>37</th>\n      <td>Math</td>\n      <td>92400.0</td>\n    </tr>\n    <tr>\n      <th>43</th>\n      <td>Physician Assistant</td>\n      <td>91700.0</td>\n    </tr>\n    <tr>\n      <th>10</th>\n      <td>Civil Engineering</td>\n      <td>90500.0</td>\n    </tr>\n    <tr>\n      <th>14</th>\n      <td>Construction</td>\n      <td>88900.0</td>\n    </tr>\n    <tr>\n      <th>22</th>\n      <td>Finance</td>\n      <td>88300.0</td>\n    </tr>\n    <tr>\n      <th>35</th>\n      <td>Management Information Systems (MIS)</td>\n      <td>82300.0</td>\n    </tr>\n    <tr>\n      <th>42</th>\n      <td>Philosophy</td>\n      <td>81200.0</td>\n    </tr>\n    <tr>\n      <th>33</th>\n      <td>International Relations</td>\n      <td>80900.0</td>\n    </tr>\n    <tr>\n      <th>9</th>\n      <td>Chemistry</td>\n      <td>79900.0</td>\n    </tr>\n    <tr>\n      <th>36</th>\n      <td>Marketing</td>\n      <td>79600.0</td>\n    </tr>\n    <tr>\n      <th>25</th>\n      <td>Geology</td>\n      <td>79500.0</td>\n    </tr>\n    <tr>\n      <th>45</th>\n      <td>Political Science</td>\n      <td>78200.0</td>\n    </tr>\n    <tr>\n      <th>0</th>\n      <td>Accounting</td>\n      <td>77100.0</td>\n    </tr>\n    <tr>\n      <th>4</th>\n      <td>Architecture</td>\n      <td>76800.0</td>\n    </tr>\n    <tr>\n      <th>31</th>\n      <td>Information Technology (IT)</td>\n      <td>74800.0</td>\n    </tr>\n    <tr>\n      <th>7</th>\n      <td>Business Management</td>\n      <td>72100.0</td>\n    </tr>\n    <tr>\n      <th>2</th>\n      <td>Agriculture</td>\n      <td>71900.0</td>\n    </tr>\n    <tr>\n      <th>28</th>\n      <td>History</td>\n      <td>71000.0</td>\n    </tr>\n    <tr>\n      <th>11</th>\n      <td>Communications</td>\n      <td>70000.0</td>\n    </tr>\n    <tr>\n      <th>21</th>\n      <td>Film</td>\n      <td>68500.0</td>\n    </tr>\n    <tr>\n      <th>40</th>\n      <td>Nursing</td>\n      <td>67000.0</td>\n    </tr>\n    <tr>\n      <th>34</th>\n      <td>Journalism</td>\n      <td>66700.0</td>\n    </tr>\n    <tr>\n      <th>24</th>\n      <td>Geography</td>\n      <td>65500.0</td>\n    </tr>\n    <tr>\n      <th>5</th>\n      <td>Art History</td>\n      <td>64900.0</td>\n    </tr>\n    <tr>\n      <th>6</th>\n      <td>Biology</td>\n      <td>64800.0</td>\n    </tr>\n    <tr>\n      <th>20</th>\n      <td>English</td>\n      <td>64700.0</td>\n    </tr>\n    <tr>\n      <th>23</th>\n      <td>Forestry</td>\n      <td>62600.0</td>\n    </tr>\n    <tr>\n      <th>3</th>\n      <td>Anthropology</td>\n      <td>61500.0</td>\n    </tr>\n    <tr>\n      <th>27</th>\n      <td>Health Care Administration</td>\n      <td>60600.0</td>\n    </tr>\n    <tr>\n      <th>46</th>\n      <td>Psychology</td>\n      <td>60400.0</td>\n    </tr>\n    <tr>\n      <th>26</th>\n      <td>Graphic Design</td>\n      <td>59800.0</td>\n    </tr>\n    <tr>\n      <th>48</th>\n      <td>Sociology</td>\n      <td>58200.0</td>\n    </tr>\n    <tr>\n      <th>29</th>\n      <td>Hospitality &amp; Tourism</td>\n      <td>57500.0</td>\n    </tr>\n    <tr>\n      <th>16</th>\n      <td>Drama</td>\n      <td>56900.0</td>\n    </tr>\n    <tr>\n      <th>15</th>\n      <td>Criminal Justice</td>\n      <td>56300.0</td>\n    </tr>\n    <tr>\n      <th>41</th>\n      <td>Nutrition</td>\n      <td>55300.0</td>\n    </tr>\n    <tr>\n      <th>39</th>\n      <td>Music</td>\n      <td>55000.0</td>\n    </tr>\n    <tr>\n      <th>32</th>\n      <td>Interior Design</td>\n      <td>53200.0</td>\n    </tr>\n    <tr>\n      <th>49</th>\n      <td>Spanish</td>\n      <td>53100.0</td>\n    </tr>\n    <tr>\n      <th>18</th>\n      <td>Education</td>\n      <td>52000.0</td>\n    </tr>\n    <tr>\n      <th>47</th>\n      <td>Religion</td>\n      <td>52000.0</td>\n    </tr>\n  </tbody>\n</table>\n</div>"
     },
     "execution_count": 67,
     "metadata": {},
     "output_type": "execute_result"
    }
   ],
   "source": [
    "medium_salaries = clean_df.sort_values(\"Mid-Career Median Salary\", ascending=False)\n",
    "medium_salaries[['Undergraduate Major', 'Mid-Career Median Salary']]"
   ],
   "metadata": {
    "collapsed": false,
    "pycharm": {
     "name": "#%%\n"
    }
   }
  }
 ],
 "metadata": {
  "kernelspec": {
   "display_name": "Python 3",
   "language": "python",
   "name": "python3"
  },
  "language_info": {
   "codemirror_mode": {
    "name": "ipython",
    "version": 2
   },
   "file_extension": ".py",
   "mimetype": "text/x-python",
   "name": "python",
   "nbconvert_exporter": "python",
   "pygments_lexer": "ipython2",
   "version": "2.7.6"
  }
 },
 "nbformat": 4,
 "nbformat_minor": 0
}
{
 "cells": [
  {
   "cell_type": "code",
   "execution_count": 12,
   "metadata": {
    "collapsed": true
   },
   "outputs": [
    {
     "data": {
      "text/plain": "   Undergraduate Major  Starting Median Salary  Mid-Career Median Salary  \\\n45   Political Science                 40800.0                   78200.0   \n46          Psychology                 35900.0                   60400.0   \n47            Religion                 34100.0                   52000.0   \n48           Sociology                 36500.0                   58200.0   \n49             Spanish                 34000.0                   53100.0   \n\n    Mid-Career 10th Percentile Salary  Mid-Career 90th Percentile Salary Group  \n45                            41200.0                           168000.0  HASS  \n46                            31600.0                           127000.0  HASS  \n47                            29700.0                            96400.0  HASS  \n48                            30700.0                           118000.0  HASS  \n49                            31000.0                            96400.0  HASS  ",
      "text/html": "<div>\n<style scoped>\n    .dataframe tbody tr th:only-of-type {\n        vertical-align: middle;\n    }\n\n    .dataframe tbody tr th {\n        vertical-align: top;\n    }\n\n    .dataframe thead th {\n        text-align: right;\n    }\n</style>\n<table border=\"1\" class=\"dataframe\">\n  <thead>\n    <tr style=\"text-align: right;\">\n      <th></th>\n      <th>Undergraduate Major</th>\n      <th>Starting Median Salary</th>\n      <th>Mid-Career Median Salary</th>\n      <th>Mid-Career 10th Percentile Salary</th>\n      <th>Mid-Career 90th Percentile Salary</th>\n      <th>Group</th>\n    </tr>\n  </thead>\n  <tbody>\n    <tr>\n      <th>45</th>\n      <td>Political Science</td>\n      <td>40800.0</td>\n      <td>78200.0</td>\n      <td>41200.0</td>\n      <td>168000.0</td>\n      <td>HASS</td>\n    </tr>\n    <tr>\n      <th>46</th>\n      <td>Psychology</td>\n      <td>35900.0</td>\n      <td>60400.0</td>\n      <td>31600.0</td>\n      <td>127000.0</td>\n      <td>HASS</td>\n    </tr>\n    <tr>\n      <th>47</th>\n      <td>Religion</td>\n      <td>34100.0</td>\n      <td>52000.0</td>\n      <td>29700.0</td>\n      <td>96400.0</td>\n      <td>HASS</td>\n    </tr>\n    <tr>\n      <th>48</th>\n      <td>Sociology</td>\n      <td>36500.0</td>\n      <td>58200.0</td>\n      <td>30700.0</td>\n      <td>118000.0</td>\n      <td>HASS</td>\n    </tr>\n    <tr>\n      <th>49</th>\n      <td>Spanish</td>\n      <td>34000.0</td>\n      <td>53100.0</td>\n      <td>31000.0</td>\n      <td>96400.0</td>\n      <td>HASS</td>\n    </tr>\n  </tbody>\n</table>\n</div>"
     },
     "execution_count": 12,
     "metadata": {},
     "output_type": "execute_result"
    }
   ],
   "source": [
    "import pandas as pd\n",
    "df = pd.read_csv('salaries_by_college_major.csv')\n",
    "df.head()\n",
    "df.columns\n",
    "df.isna()\n",
    "clean_df = df.dropna()\n",
    "clean_df.tail()"
   ]
  },
  {
   "cell_type": "markdown",
   "source": [],
   "metadata": {
    "collapsed": false,
    "pycharm": {
     "name": "#%% md\n"
    }
   }
  }
 ],
 "metadata": {
  "kernelspec": {
   "display_name": "Python 3",
   "language": "python",
   "name": "python3"
  },
  "language_info": {
   "codemirror_mode": {
    "name": "ipython",
    "version": 2
   },
   "file_extension": ".py",
   "mimetype": "text/x-python",
   "name": "python",
   "nbconvert_exporter": "python",
   "pygments_lexer": "ipython2",
   "version": "2.7.6"
  }
 },
 "nbformat": 4,
 "nbformat_minor": 0
}